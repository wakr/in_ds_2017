{
 "cells": [
  {
   "cell_type": "code",
   "execution_count": 10,
   "metadata": {
    "collapsed": true
   },
   "outputs": [],
   "source": [
    "%matplotlib inline\n",
    "import pandas as pd"
   ]
  },
  {
   "cell_type": "code",
   "execution_count": 14,
   "metadata": {},
   "outputs": [],
   "source": [
    "df = pd.read_csv(\"../data/crimes_in_polygon.csv\")\n",
    "grouped_df = df.groupby([\"Zip\", \"Year\"]).count()"
   ]
  },
  {
   "cell_type": "code",
   "execution_count": 16,
   "metadata": {},
   "outputs": [
    {
     "data": {
      "text/plain": [
       "Zip    Year\n",
       "60601  2010    2971\n",
       "       2011    1432\n",
       "       2012    1615\n",
       "       2013    1809\n",
       "       2014    1591\n",
       "       2015    1626\n",
       "       2016    1811\n",
       "60602  2010    3406\n",
       "       2011    1690\n",
       "       2012    1736\n",
       "       2013    1706\n",
       "       2014    1677\n",
       "       2015    1707\n",
       "       2016    1964\n",
       "60603  2010    1672\n",
       "       2011     862\n",
       "       2012     892\n",
       "       2013     977\n",
       "       2014     858\n",
       "       2015    1016\n",
       "       2016    1196\n",
       "60604  2010    1911\n",
       "       2011     986\n",
       "       2012    1052\n",
       "       2013     904\n",
       "       2014     880\n",
       "       2015     822\n",
       "       2016    1002\n",
       "60605  2010    5115\n",
       "       2011    2659\n",
       "               ... \n",
       "60660  2015    1476\n",
       "       2016    1485\n",
       "60661  2010    2100\n",
       "       2011    1059\n",
       "       2012    1019\n",
       "       2013     907\n",
       "       2014     779\n",
       "       2015     854\n",
       "       2016     862\n",
       "60666  2010    2324\n",
       "       2011    1359\n",
       "       2012    1278\n",
       "       2013    1594\n",
       "       2014    1519\n",
       "       2015    1253\n",
       "       2016     961\n",
       "60707  2010     160\n",
       "       2011      77\n",
       "       2012      65\n",
       "       2013      71\n",
       "       2014      54\n",
       "       2015      60\n",
       "       2016      57\n",
       "60827  2010    2499\n",
       "       2011    1420\n",
       "       2012    1475\n",
       "       2013    1407\n",
       "       2014    1306\n",
       "       2015    1131\n",
       "       2016    1153\n",
       "Name: Ward, Length: 430, dtype: int64"
      ]
     },
     "execution_count": 16,
     "metadata": {},
     "output_type": "execute_result"
    }
   ],
   "source": [
    "grouped_df"
   ]
  },
  {
   "cell_type": "code",
   "execution_count": null,
   "metadata": {
    "collapsed": true
   },
   "outputs": [],
   "source": []
  }
 ],
 "metadata": {
  "kernelspec": {
   "display_name": "Python 3",
   "language": "python",
   "name": "python3"
  },
  "language_info": {
   "codemirror_mode": {
    "name": "ipython",
    "version": 3
   },
   "file_extension": ".py",
   "mimetype": "text/x-python",
   "name": "python",
   "nbconvert_exporter": "python",
   "pygments_lexer": "ipython3",
   "version": "3.6.1"
  }
 },
 "nbformat": 4,
 "nbformat_minor": 2
}
